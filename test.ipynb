{
 "cells": [
  {
   "cell_type": "code",
   "execution_count": 10,
   "metadata": {},
   "outputs": [
    {
     "ename": "ImportError",
     "evalue": "attempted relative import with no known parent package",
     "output_type": "error",
     "traceback": [
      "\u001b[0;31m---------------------------------------------------------------------------\u001b[0m",
      "\u001b[0;31mImportError\u001b[0m                               Traceback (most recent call last)",
      "Cell \u001b[0;32mIn[10], line 1\u001b[0m\n\u001b[0;32m----> 1\u001b[0m \u001b[38;5;28;01mfrom\u001b[39;00m \u001b[38;5;21;01m.\u001b[39;00m\u001b[38;5;21;01mMobileNetV2\u001b[39;00m \u001b[38;5;28;01mimport\u001b[39;00m MobileNetV2\n\u001b[1;32m      3\u001b[0m model \u001b[38;5;241m=\u001b[39m MobileNetV2(num_classes\u001b[38;5;241m=\u001b[39m\u001b[38;5;241m100\u001b[39m)\n\u001b[1;32m      4\u001b[0m model\u001b[38;5;241m.\u001b[39mload_state_dict(torch\u001b[38;5;241m.\u001b[39mload(\u001b[38;5;124m'\u001b[39m\u001b[38;5;124mWeights/Cifar100/Mobilenetv2/KmeanOp@Mobilenetv2_ACC@72.29.pt\u001b[39m\u001b[38;5;124m'\u001b[39m))\n",
      "\u001b[0;31mImportError\u001b[0m: attempted relative import with no known parent package"
     ]
    }
   ],
   "source": [
    "from .MobileNetV2 import MobileNetV2\n",
    "\n",
    "model = MobileNetV2(num_classes=100)\n",
    "model.load_state_dict(torch.load('Weights/Cifar100/Mobilenetv2/KmeanOp@Mobilenetv2_ACC@72.29.pt'))\n",
    "\n",
    "# Plotting the weight distributions\n",
    "for name, param in model.named_parameters():\n",
    "    if 'weight' in name:\n",
    "        plt.figure()\n",
    "        plt.title(f'Weight Distribution in Layer: {name}')\n",
    "        plt.hist(param.detach().numpy().flatten(), bins=50)\n",
    "        plt.xlabel('Weight Value')\n",
    "        plt.ylabel('Frequency')\n",
    "        plt.grid(True)\n",
    "\n",
    "# Display the plots\n",
    "plt.show()"
   ]
  }
 ],
 "metadata": {
  "kernelspec": {
   "display_name": "Pytorch",
   "language": "python",
   "name": "python3"
  },
  "language_info": {
   "codemirror_mode": {
    "name": "ipython",
    "version": 3
   },
   "file_extension": ".py",
   "mimetype": "text/x-python",
   "name": "python",
   "nbconvert_exporter": "python",
   "pygments_lexer": "ipython3",
   "version": "3.9.17"
  }
 },
 "nbformat": 4,
 "nbformat_minor": 2
}
